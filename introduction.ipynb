{
 "cells": [
  {
   "cell_type": "markdown",
   "id": "8b568152-3d7e-45f4-a042-1a1c1fdd9dee",
   "metadata": {},
   "source": [
    "# KPW2023\n",
    "\n",
    "## Block 3: Jupyter notebooks & music21 [12:00-13:30]\n",
    "\n",
    "- log into repl.it and fork repo\n",
    "- python basics notebook\n",
    "- mini intro to CRIM intervals and cadences\n",
    "- work on exercises notebook\n",
    "\n",
    "## Block 4: Music visualization [14:30-16:00]"
   ]
  },
  {
   "cell_type": "code",
   "execution_count": 5,
   "id": "03dc6434-c0fb-4e5c-91ca-630f8240fa60",
   "metadata": {},
   "outputs": [
    {
     "name": "stdout",
     "output_type": "stream",
     "text": [
      "Python 3.8.10\n"
     ]
    }
   ],
   "source": [
    "!python3 --version"
   ]
  },
  {
   "cell_type": "code",
   "execution_count": 14,
   "id": "9baf8edb-bf78-4e6a-a9c5-331897fd41b5",
   "metadata": {},
   "outputs": [],
   "source": [
    "import polars as pl\n",
    "import numpy as np"
   ]
  },
  {
   "cell_type": "code",
   "execution_count": 15,
   "id": "dd1e667f-e846-40be-ad12-36643f023224",
   "metadata": {},
   "outputs": [],
   "source": [
    "rng = np.random.default_rng()"
   ]
  },
  {
   "cell_type": "code",
   "execution_count": 16,
   "id": "c6863f98-c155-4b40-b229-b23f10e8ae70",
   "metadata": {},
   "outputs": [],
   "source": [
    "data = rng.normal(size=(100,4))"
   ]
  },
  {
   "cell_type": "code",
   "execution_count": 17,
   "id": "6e547ad8-45ed-49fa-9386-1df8db86d6b3",
   "metadata": {},
   "outputs": [],
   "source": [
    "df = pl.DataFrame(data, schema=[\"Col1\", \"Col2\", \"Col3\", \"Col4\"])"
   ]
  },
  {
   "cell_type": "code",
   "execution_count": 18,
   "id": "f9b51e6f-e7c2-4e46-9d04-b42988e7fe12",
   "metadata": {},
   "outputs": [
    {
     "data": {
      "text/html": [
       "<div><style>\n",
       ".dataframe > thead > tr > th,\n",
       ".dataframe > tbody > tr > td {\n",
       "  text-align: right;\n",
       "  white-space: pre-wrap;\n",
       "}\n",
       "</style>\n",
       "<small>shape: (100, 2)</small><table border=\"1\" class=\"dataframe\"><thead><tr><th>Col1</th><th>Col2</th></tr><tr><td>f64</td><td>f64</td></tr></thead><tbody><tr><td>1.236913</td><td>-1.053269</td></tr><tr><td>-1.10909</td><td>1.351754</td></tr><tr><td>-0.257329</td><td>0.174364</td></tr><tr><td>-0.685586</td><td>1.135402</td></tr><tr><td>0.402362</td><td>1.176407</td></tr><tr><td>-0.91168</td><td>0.897205</td></tr><tr><td>-0.13731</td><td>0.165161</td></tr><tr><td>1.739185</td><td>1.620985</td></tr><tr><td>-0.444854</td><td>0.011761</td></tr><tr><td>-0.18494</td><td>-0.750805</td></tr><tr><td>-0.240146</td><td>-1.535626</td></tr><tr><td>0.304925</td><td>0.206504</td></tr><tr><td>&hellip;</td><td>&hellip;</td></tr><tr><td>0.637187</td><td>0.78395</td></tr><tr><td>-0.747732</td><td>0.275573</td></tr><tr><td>-3.368465</td><td>0.809127</td></tr><tr><td>0.730597</td><td>1.685664</td></tr><tr><td>-0.60744</td><td>0.027978</td></tr><tr><td>0.493385</td><td>0.231644</td></tr><tr><td>-0.815787</td><td>0.17506</td></tr><tr><td>-1.510302</td><td>0.394983</td></tr><tr><td>0.186082</td><td>0.531775</td></tr><tr><td>-1.164425</td><td>0.518734</td></tr><tr><td>1.832427</td><td>1.406978</td></tr><tr><td>0.511124</td><td>0.23888</td></tr></tbody></table></div>"
      ],
      "text/plain": [
       "shape: (100, 2)\n",
       "┌───────────┬───────────┐\n",
       "│ Col1      ┆ Col2      │\n",
       "│ ---       ┆ ---       │\n",
       "│ f64       ┆ f64       │\n",
       "╞═══════════╪═══════════╡\n",
       "│ 1.236913  ┆ -1.053269 │\n",
       "│ -1.10909  ┆ 1.351754  │\n",
       "│ -0.257329 ┆ 0.174364  │\n",
       "│ -0.685586 ┆ 1.135402  │\n",
       "│ …         ┆ …         │\n",
       "│ 0.186082  ┆ 0.531775  │\n",
       "│ -1.164425 ┆ 0.518734  │\n",
       "│ 1.832427  ┆ 1.406978  │\n",
       "│ 0.511124  ┆ 0.23888   │\n",
       "└───────────┴───────────┘"
      ]
     },
     "execution_count": 18,
     "metadata": {},
     "output_type": "execute_result"
    }
   ],
   "source": [
    "df[[\"Col1\", \"Col2\"]]"
   ]
  },
  {
   "cell_type": "code",
   "execution_count": 19,
   "id": "98ed9096-c77e-4d96-ac4d-bf4f2a470080",
   "metadata": {},
   "outputs": [],
   "source": [
    "import music21 as m21"
   ]
  },
  {
   "cell_type": "code",
   "execution_count": 61,
   "id": "db853314-182c-43a6-a50f-b40046b51d91",
   "metadata": {},
   "outputs": [],
   "source": [
    "def melody(N=3):\n",
    "    letters = list(\"FCGDAEB\")  \n",
    "    tones = rng.choice(letters, size=N)\n",
    "    notes = [ m21.note.Note(t + \"4\") for t in tones ] # put all tones in 4th octave\n",
    "    stream = m21.stream.Stream(notes) # necessary for rendering\n",
    "\n",
    "    return stream"
   ]
  },
  {
   "cell_type": "code",
   "execution_count": 62,
   "id": "63af718a-6dc8-475b-9082-5fda95a372e8",
   "metadata": {},
   "outputs": [
    {
     "data": {
      "image/png": "[encoded data removed]",
      "text/plain": [
       "<IPython.core.display.Image object>"
      ]
     },
     "metadata": {
      "image/png": {
       "height": 49,
       "width": 674
      }
     },
     "output_type": "display_data"
    }
   ],
   "source": [
    "N = 12 # number of notes in melody\n",
    "\n",
    "melody(N).show()"
   ]
  },
  {
   "cell_type": "code",
   "execution_count": 63,
   "id": "2d351707-8a6c-435d-b092-22d4c3de5591",
   "metadata": {},
   "outputs": [],
   "source": [
    "soprano = melody(12)\n",
    "alto = melody(12)\n",
    "tenor = melody(12)\n",
    "bass = melody(12)\n",
    "\n",
    "chorale = m21.stream.Stream(\n",
    "    [soprano, alto, tenor, bass]\n",
    ")"
   ]
  },
  {
   "cell_type": "code",
   "execution_count": null,
   "id": "668b2dc0-05df-4de4-b38f-f40f6a6ea37d",
   "metadata": {},
   "outputs": [
    {
     "name": "stderr",
     "output_type": "stream",
     "text": [
      "findlib: libjack.so.0: cannot open shared object file: No such file or directory\n",
      "/home/fmoss/.local/bin/mscore: Using fallback for library 'libjack.so.0'\n",
      "/lib/x86_64-linux-gnu/libnss3.so\n"
     ]
    },
    {
     "name": "stdout",
     "output_type": "stream",
     "text": [
      "\u001b[1;32m14:01:05.917 | INFO  | main_thread | GlobalModule | onPreInit: log path: /home/fmoss/.local/share/MuseScore/MuseScore4Development/logs/MuseScore_230922_140105.log\u001b[0m\n",
      "\u001b[1;32m14:01:05.917 | INFO  | main_thread | GlobalModule | onPreInit: === Started MuseScore 4.2.0-dev, build number 232470304 ===\u001b[0m\n",
      "\u001b[1;31m14:01:05.940 | ERROR | main_thread | LanguagesService | setCurrentLanguage: Unsupported language code: \"system\" \u001b[0m\n",
      "\u001b[1;33m14:01:05.953 | WARN  | main_thread | IpcSocket  | connect: failed connect to server\u001b[0m\n",
      "\u001b[1;33m14:01:05.953 | WARN  | main_thread | IpcSocket  | connect: failed connect to server\u001b[0m\n",
      "\u001b[1;32m14:01:05.954 | INFO  | main_thread | IpcSocket  | connect: success connected to ipc server\u001b[0m\n",
      "\u001b[1;32m14:01:05.954 | INFO  | 139984939960064 | IpcServer  | listen: id: \"0bf8a4f2c57b47fc85cc3acc491542e8\" \u001b[0m\n",
      "\u001b[1;32m14:01:09.972 | INFO  | main_thread | DiagnosticsModule | onInit: success start crash handler\u001b[0m\n"
     ]
    },
    {
     "name": "stderr",
     "output_type": "stream",
     "text": [
      "ALSA lib confmisc.c:767:(parse_card) cannot find card '0'\n",
      "ALSA lib conf.c:4732:(_snd_config_evaluate) function snd_func_card_driver returned error: No such file or directory\n",
      "ALSA lib confmisc.c:392:(snd_func_concat) error evaluating strings\n",
      "ALSA lib conf.c:4732:(_snd_config_evaluate) function snd_func_concat returned error: No such file or directory\n",
      "ALSA lib confmisc.c:1246:(snd_func_refer) error evaluating name\n",
      "ALSA lib conf.c:4732:(_snd_config_evaluate) function snd_func_refer returned error: No such file or directory\n",
      "ALSA lib conf.c:5220:(snd_config_expand) Evaluate error: No such file or directory\n",
      "ALSA lib pcm.c:2642:(snd_pcm_open_noupdate) Unknown PCM default\n",
      "ALSA lib seq_hw.c:466:(snd_seq_hw_open) open /dev/snd/seq failed: No such file or directory\n",
      "ALSA lib seq_hw.c:466:(snd_seq_hw_open) open /dev/snd/seq failed: No such file or directory\n"
     ]
    },
    {
     "name": "stdout",
     "output_type": "stream",
     "text": [
      "\u001b[1;31m14:01:10.414 | ERROR | main_thread | AudioModule | setupAudioDriver: audio output open failed\u001b[0m\n",
      "\u001b[1;31m14:01:10.416 | ERROR | main_thread | MuseSamplerLibHandler | MuseSamplerLibHandler: Unable to open MuseSampler library, path: /home/fmoss/.local/share/MuseSampler/lib/libMuseSamplerCoreLib.so\u001b[0m\n",
      "\u001b[1;31m14:01:10.417 | ERROR | main_thread | MuseSamplerResolver | checkLibrary: Incompatible MuseSampler library; ignoring\u001b[0m\n",
      "\u001b[1;31m14:01:10.419 | ERROR | main_thread | MuseSamplerLibHandler | MuseSamplerLibHandler: Unable to open MuseSampler library, path: libMuseSamplerCoreLib.so\u001b[0m\n",
      "\u001b[1;31m14:01:10.419 | ERROR | main_thread | MuseSamplerResolver | checkLibrary: Incompatible MuseSampler library; ignoring\u001b[0m\n",
      "\u001b[1;33m14:01:10.422 | WARN  | main_thread | Qt         | QIODevice::read (QFile, \"/home/fmoss/.local/share/MuseScore/MuseScore4Development/shortcuts.xml\"): device not open\u001b[0m\n",
      "\u001b[1;33m14:01:10.422 | WARN  | main_thread | Qt         | QIODevice::read (QFile, \"/home/fmoss/.local/share/MuseScore/MuseScore4Development/midi_mappings.xml\"): device not open\u001b[0m\n",
      "\u001b[1;33m14:01:10.478 | WARN  | main_thread | AbstractCloudService | readTokens: Could not find the tokens file: /home/fmoss/.local/share/MuseScore/MuseScore4Development/musescorecom_cred.dat\u001b[0m\n",
      "\u001b[1;33m14:01:10.478 | WARN  | main_thread | AbstractCloudService | readTokens: Could not find the tokens file: /home/fmoss/.local/share/MuseScore/MuseScore4Development/audiocom_cred.dat\u001b[0m\n"
     ]
    },
    {
     "name": "stderr",
     "output_type": "stream",
     "text": [
      "ALSA lib seq_hw.c:466:(snd_seq_hw_open) open /dev/snd/seq failed: No such file or directory\n",
      "ALSA lib seq_hw.c:466:(snd_seq_hw_open) open /dev/snd/seq failed: No such file or directory\n",
      "ALSA lib seq_hw.c:466:(snd_seq_hw_open) open /dev/snd/seq failed: No such file or directory\n",
      "ALSA lib seq_hw.c:466:(snd_seq_hw_open) open /dev/snd/seq failed: No such file or directory\n",
      "ALSA lib seq_hw.c:466:(snd_seq_hw_open) open /dev/snd/seq failed: No such file or directory\n",
      "ALSA lib seq_hw.c:466:(snd_seq_hw_open) open /dev/snd/seq failed: No such file or directory\n",
      "ALSA lib seq_hw.c:466:(snd_seq_hw_open) open /dev/snd/seq failed: No such file or directory\n",
      "ALSA lib seq_hw.c:466:(snd_seq_hw_open) open /dev/snd/seq failed: No such file or directory\n"
     ]
    },
    {
     "name": "stdout",
     "output_type": "stream",
     "text": [
      "\u001b[1;31m14:01:11.369 | ERROR | main_thread | PluginsConfiguration | updatePluginsConfiguration: [401] The file does not exist\u001b[0m\n"
     ]
    },
    {
     "name": "stderr",
     "output_type": "stream",
     "text": [
      "ALSA lib seq_hw.c:466:(snd_seq_hw_open) open /dev/snd/seq failed: No such file or directory\n",
      "ALSA lib seq_hw.c:466:(snd_seq_hw_open) open /dev/snd/seq failed: No such file or directory\n",
      "ALSA lib seq_hw.c:466:(snd_seq_hw_open) open /dev/snd/seq failed: No such file or directory\n",
      "ALSA lib seq_hw.c:466:(snd_seq_hw_open) open /dev/snd/seq failed: No such file or directory\n",
      "ALSA lib seq_hw.c:466:(snd_seq_hw_open) open /dev/snd/seq failed: No such file or directory\n",
      "ALSA lib seq_hw.c:466:(snd_seq_hw_open) open /dev/snd/seq failed: No such file or directory\n"
     ]
    },
    {
     "name": "stdout",
     "output_type": "stream",
     "text": [
      "\u001b[1;31m14:01:13.259 | ERROR | main_thread | App        | run: error: qrc:/qml/MuseScore/UiComponents/FlatButton.qml:174:5: QML Loader: Binding loop detected for property \"itemImplicitWidth\"\n",
      "\u001b[0m\n",
      "\u001b[1;33m14:01:13.259 | WARN  | main_thread | Qt         | qrc:/qml/MuseScore/UiComponents/FlatButton.qml:174:5: QML Loader: Binding loop detected for property \"itemImplicitWidth\"\u001b[0m\n",
      "\u001b[1;31m14:01:13.262 | ERROR | main_thread | App        | run: error: qrc:/qml/MuseScore/UiComponents/FlatButton.qml:174:5: QML Loader: Binding loop detected for property \"itemImplicitWidth\"\n",
      "\u001b[0m\n",
      "\u001b[1;33m14:01:13.262 | WARN  | main_thread | Qt         | qrc:/qml/MuseScore/UiComponents/FlatButton.qml:174:5: QML Loader: Binding loop detected for property \"itemImplicitWidth\"\u001b[0m\n",
      "\u001b[1;31m14:01:13.264 | ERROR | main_thread | App        | run: error: qrc:/qml/MuseScore/UiComponents/FlatButton.qml:174:5: QML Loader: Binding loop detected for property \"itemImplicitWidth\"\n",
      "\u001b[0m\n",
      "\u001b[1;33m14:01:13.264 | WARN  | main_thread | Qt         | qrc:/qml/MuseScore/UiComponents/FlatButton.qml:174:5: QML Loader: Binding loop detected for property \"itemImplicitWidth\"\u001b[0m\n",
      "\u001b[1;31m14:01:13.266 | ERROR | main_thread | App        | run: error: qrc:/qml/MuseScore/UiComponents/FlatButton.qml:174:5: QML Loader: Binding loop detected for property \"itemImplicitWidth\"\n",
      "\u001b[0m\n",
      "\u001b[1;33m14:01:13.266 | WARN  | main_thread | Qt         | qrc:/qml/MuseScore/UiComponents/FlatButton.qml:174:5: QML Loader: Binding loop detected for property \"itemImplicitWidth\"\u001b[0m\n",
      "\u001b[1;31m14:01:13.269 | ERROR | main_thread | App        | run: error: qrc:/qml/MuseScore/UiComponents/FlatButton.qml:174:5: QML Loader: Binding loop detected for property \"itemImplicitWidth\"\n",
      "\u001b[0m\n",
      "\u001b[1;33m14:01:13.269 | WARN  | main_thread | Qt         | qrc:/qml/MuseScore/UiComponents/FlatButton.qml:174:5: QML Loader: Binding loop detected for property \"itemImplicitWidth\"\u001b[0m\n",
      "\u001b[1;31m14:01:13.272 | ERROR | main_thread | App        | run: error: qrc:/qml/MuseScore/UiComponents/FlatButton.qml:174:5: QML Loader: Binding loop detected for property \"itemImplicitWidth\"\n",
      "\u001b[0m\n",
      "\u001b[1;33m14:01:13.272 | WARN  | main_thread | Qt         | qrc:/qml/MuseScore/UiComponents/FlatButton.qml:174:5: QML Loader: Binding loop detected for property \"itemImplicitWidth\"\u001b[0m\n",
      "\u001b[1;31m14:01:13.274 | ERROR | main_thread | App        | run: error: qrc:/qml/MuseScore/UiComponents/FlatButton.qml:174:5: QML Loader: Binding loop detected for property \"itemImplicitWidth\"\n",
      "\u001b[0m\n",
      "\u001b[1;33m14:01:13.274 | WARN  | main_thread | Qt         | qrc:/qml/MuseScore/UiComponents/FlatButton.qml:174:5: QML Loader: Binding loop detected for property \"itemImplicitWidth\"\u001b[0m\n",
      "\u001b[1;31m14:01:13.276 | ERROR | main_thread | App        | run: error: qrc:/qml/MuseScore/UiComponents/FlatButton.qml:174:5: QML Loader: Binding loop detected for property \"itemImplicitWidth\"\n",
      "\u001b[0m\n",
      "\u001b[1;33m14:01:13.276 | WARN  | main_thread | Qt         | qrc:/qml/MuseScore/UiComponents/FlatButton.qml:174:5: QML Loader: Binding loop detected for property \"itemImplicitWidth\"\u001b[0m\n",
      "\u001b[1;31m14:01:13.277 | ERROR | main_thread | App        | run: error: qrc:/qml/MuseScore/UiComponents/FlatButton.qml:174:5: QML Loader: Binding loop detected for property \"itemImplicitWidth\"\n",
      "\u001b[0m\n",
      "\u001b[1;33m14:01:13.278 | WARN  | main_thread | Qt         | qrc:/qml/MuseScore/UiComponents/FlatButton.qml:174:5: QML Loader: Binding loop detected for property \"itemImplicitWidth\"\u001b[0m\n"
     ]
    },
    {
     "name": "stderr",
     "output_type": "stream",
     "text": [
      "ALSA lib seq_hw.c:466:(snd_seq_hw_open) open /dev/snd/seq failed: No such file or directory\n",
      "ALSA lib seq_hw.c:466:(snd_seq_hw_open) open /dev/snd/seq failed: No such file or directory\n",
      "ALSA lib seq_hw.c:466:(snd_seq_hw_open) open /dev/snd/seq failed: No such file or directory\n",
      "ALSA lib seq_hw.c:466:(snd_seq_hw_open) open /dev/snd/seq failed: No such file or directory\n",
      "ALSA lib seq_hw.c:466:(snd_seq_hw_open) open /dev/snd/seq failed: No such file or directory\n",
      "ALSA lib seq_hw.c:466:(snd_seq_hw_open) open /dev/snd/seq failed: No such file or directory\n",
      "ALSA lib seq_hw.c:466:(snd_seq_hw_open) open /dev/snd/seq failed: No such file or directory\n",
      "ALSA lib seq_hw.c:466:(snd_seq_hw_open) open /dev/snd/seq failed: No such file or directory\n",
      "ALSA lib seq_hw.c:466:(snd_seq_hw_open) open /dev/snd/seq failed: No such file or directory\n",
      "ALSA lib seq_hw.c:466:(snd_seq_hw_open) open /dev/snd/seq failed: No such file or directory\n",
      "ALSA lib seq_hw.c:466:(snd_seq_hw_open) open /dev/snd/seq failed: No such file or directory\n",
      "ALSA lib seq_hw.c:466:(snd_seq_hw_open) open /dev/snd/seq failed: No such file or directory\n"
     ]
    },
    {
     "name": "stdout",
     "output_type": "stream",
     "text": [
      "\u001b[1;32m14:01:15.185 | INFO  | main_thread | ActionsDispatcher | dispatch: try call action: file-open\u001b[0m\n"
     ]
    },
    {
     "name": "stderr",
     "output_type": "stream",
     "text": [
      "ALSA lib seq_hw.c:466:(snd_seq_hw_open) open /dev/snd/seq failedALSA lib seq_hw.c:466:(snd_seq_hw_open) open /dev/snd/seq failed: No such file or directory\n",
      ": No such file or directory\n",
      "ALSA lib seq_hw.c:466:(snd_seq_hw_open) open /dev/snd/seq failed: No such file or directory\n",
      "ALSA lib seq_hw.c:466:(snd_seq_hw_open) open /dev/snd/seq failed: No such file or directory\n"
     ]
    },
    {
     "name": "stdout",
     "output_type": "stream",
     "text": [
      "\u001b[1;31m14:01:16.153 | ERROR | 139984976234240 | LayoutData | bbox: BAD ACCESS to bbox (not set)\u001b[0m\n",
      "\u001b[1;31m14:01:16.153 | ERROR | 139984976234240 | LayoutData | bbox: BAD ACCESS to bbox (not set)\u001b[0m\n",
      "\u001b[1;31m14:01:16.154 | ERROR | 139984976234240 | LayoutData | bbox: BAD ACCESS to bbox (not set)\u001b[0m\n",
      "\u001b[1;31m14:01:16.154 | ERROR | 139984976234240 | LayoutData | bbox: BAD ACCESS to bbox (not set)\u001b[0m\n",
      "\u001b[1;31m14:01:16.154 | ERROR | 139984976234240 | LayoutData | bbox: BAD ACCESS to bbox (not set)\u001b[0m\n"
     ]
    },
    {
     "name": "stderr",
     "output_type": "stream",
     "text": [
      "ALSA lib seq_hw.c:466:(snd_seq_hw_open) open /dev/snd/seq failed: No such file or directory\n",
      "ALSA lib seq_hw.c:466:(snd_seq_hw_open) open /dev/snd/seq failed: No such file or directory\n",
      "ALSA lib seq_hw.c:466:(snd_seq_hw_open) open /dev/snd/seq failed: No such file or directory\n",
      "ALSA lib seq_hw.c:466:(snd_seq_hw_open) open /dev/snd/seq failed: No such file or directory\n",
      "ALSA lib seq_hw.c:466:(snd_seq_hw_open) open /dev/snd/seq failed: No such file or directory\n",
      "ALSA lib seq_hw.c:466:(snd_seq_hw_open) open /dev/snd/seq failed: No such file or directory\n"
     ]
    },
    {
     "name": "stdout",
     "output_type": "stream",
     "text": [
      "\u001b[1;31m14:01:17.819 | ERROR | main_thread | UpdateScenario | doCheckForUpdate: Unable to check for update, error: [1701] \u001b[0m\n",
      "\u001b[1;31m14:01:17.823 | ERROR | 139984204273408 | SynthResolver | resolveSynth: invalid audio source params for trackId: 0\u001b[0m\n",
      "\u001b[1;32m14:01:17.940 | INFO  | 139984204273408 | FluidSynth | addSoundFonts: success load soundfont: /tmp/.mount_mscorezhG1FM/share/mscore4portablenightly-4.2/sound/MS Basic.sf3\u001b[0m\n",
      "\u001b[1;32m14:01:17.943 | INFO  | 139984204273408 | FluidSynth | addSoundFonts: success load soundfont: /tmp/.mount_mscorezhG1FM/share/mscore4portablenightly-4.2/sound/MS Basic.sf3\u001b[0m\n"
     ]
    },
    {
     "name": "stderr",
     "output_type": "stream",
     "text": [
      "ALSA lib seq_hw.c:466:(snd_seq_hw_open) open /dev/snd/seq failed: No such file or directory\n",
      "ALSA lib seq_hw.c:466:(snd_seq_hw_open) open /dev/snd/seq failed: No such file or directory\n",
      "ALSA lib seq_hw.c:466:(snd_seq_hw_open) open /dev/snd/seq failed: No such file or directory\n",
      "ALSA lib seq_hw.c:466:(snd_seq_hw_open) open /dev/snd/seq failed: No such file or directory\n",
      "ALSA lib seq_hw.c:466:(snd_seq_hw_open) open /dev/snd/seq failed: No such file or directory\n",
      "ALSA lib seq_hw.c:466:(snd_seq_hw_open) open /dev/snd/seq failed: No such file or directory\n",
      "ALSA lib seq_hw.c:466:(snd_seq_hw_open) open /dev/snd/seq failed: No such file or directory\n",
      "ALSA lib seq_hw.c:466:(snd_seq_hw_open) open /dev/snd/seq failed: No such file or directory\n",
      "ALSA lib seq_hw.c:466:(snd_seq_hw_open) open /dev/snd/seq failed: No such file or directory\n",
      "ALSA lib seq_hw.c:466:(snd_seq_hw_open) open /dev/snd/seq failed: No such file or directory\n"
     ]
    },
    {
     "name": "stdout",
     "output_type": "stream",
     "text": [
      "\u001b[1;31m14:01:20.424 | ERROR | 139984204273408 | SynthResolver | resolveSynth: invalid audio source params for trackId: 1\u001b[0m\n",
      "\u001b[1;32m14:01:20.433 | INFO  | 139984204273408 | FluidSynth | addSoundFonts: success load soundfont: /tmp/.mount_mscorezhG1FM/share/mscore4portablenightly-4.2/sound/MS Basic.sf3\u001b[0m\n",
      "\u001b[1;32m14:01:20.435 | INFO  | 139984204273408 | FluidSynth | addSoundFonts: success load soundfont: /tmp/.mount_mscorezhG1FM/share/mscore4portablenightly-4.2/sound/MS Basic.sf3\u001b[0m\n",
      "\u001b[1;31m14:01:20.436 | ERROR | 139984204273408 | SynthResolver | resolveSynth: invalid audio source params for trackId: 2\u001b[0m\n",
      "\u001b[1;32m14:01:20.453 | INFO  | 139984204273408 | FluidSynth | addSoundFonts: success load soundfont: /tmp/.mount_mscorezhG1FM/share/mscore4portablenightly-4.2/sound/MS Basic.sf3\u001b[0m\n",
      "\u001b[1;32m14:01:20.455 | INFO  | 139984204273408 | FluidSynth | addSoundFonts: success load soundfont: /tmp/.mount_mscorezhG1FM/share/mscore4portablenightly-4.2/sound/MS Basic.sf3\u001b[0m\n",
      "\u001b[1;31m14:01:20.456 | ERROR | 139984204273408 | SynthResolver | resolveSynth: invalid audio source params for trackId: 3\u001b[0m\n",
      "\u001b[1;32m14:01:20.474 | INFO  | 139984204273408 | FluidSynth | addSoundFonts: success load soundfont: /tmp/.mount_mscorezhG1FM/share/mscore4portablenightly-4.2/sound/MS Basic.sf3\u001b[0m\n",
      "\u001b[1;32m14:01:20.475 | INFO  | 139984204273408 | FluidSynth | addSoundFonts: success load soundfont: /tmp/.mount_mscorezhG1FM/share/mscore4portablenightly-4.2/sound/MS Basic.sf3\u001b[0m\n",
      "\u001b[1;31m14:01:20.475 | ERROR | 139984204273408 | SynthResolver | resolveSynth: invalid audio source params for trackId: 4\u001b[0m\n",
      "\u001b[1;32m14:01:20.491 | INFO  | 139984204273408 | FluidSynth | addSoundFonts: success load soundfont: /tmp/.mount_mscorezhG1FM/share/mscore4portablenightly-4.2/sound/MS Basic.sf3\u001b[0m\n",
      "\u001b[1;32m14:01:20.493 | INFO  | 139984204273408 | FluidSynth | addSoundFonts: success load soundfont: /tmp/.mount_mscorezhG1FM/share/mscore4portablenightly-4.2/sound/MS Basic.sf3\u001b[0m\n"
     ]
    },
    {
     "name": "stderr",
     "output_type": "stream",
     "text": [
      "ALSA lib seq_hw.c:466:(snd_seq_hw_open) open /dev/snd/seq failed: No such file or directory\n",
      "ALSA lib seq_hw.c:466:(snd_seq_hw_open) open /dev/snd/seq failed: No such file or directory\n",
      "ALSA lib seq_hw.c:466:(snd_seq_hw_open) open /dev/snd/seq failedALSA lib seq_hw.c:466:(snd_seq_hw_open) open /dev/snd/seq failed: No such file or directory\n",
      ": No such file or directory\n",
      "ALSA lib seq_hw.c:466:(snd_seq_hw_open) open /dev/snd/seq failed: No such file or directory\n",
      "ALSA lib seq_hw.c:466:(snd_seq_hw_open) open /dev/snd/seq failed: No such file or directory\n",
      "ALSA lib seq_hw.c:466:(snd_seq_hw_open) open /dev/snd/seq failed: No such file or directory\n",
      "ALSA lib seq_hw.c:466:(snd_seq_hw_open) open /dev/snd/seq failed: No such file or directory\n",
      "ALSA lib seq_hw.c:466:(snd_seq_hw_open) open /dev/snd/seq failed: No such file or directory\n",
      "ALSA lib seq_hw.c:466:(snd_seq_hw_open) open /dev/snd/seq failed: No such file or directory\n",
      "ALSA lib seq_hw.c:466:(snd_seq_hw_open) open /dev/snd/seq failed: No such file or directory\n",
      "ALSA lib seq_hw.c:466:(snd_seq_hw_open) open /dev/snd/seq failed: No such file or directory\n",
      "ALSA lib seq_hw.c:466:(snd_seq_hw_open) open /dev/snd/seq failed: No such file or directory\n",
      "ALSA lib seq_hw.c:466:(snd_seq_hw_open) open /dev/snd/seq failed: No such file or directory\n",
      "ALSA lib seq_hw.c:466:(snd_seq_hw_open) open /dev/snd/seq failed: No such file or directory\n",
      "ALSA lib seq_hw.c:466:(snd_seq_hw_open) open /dev/snd/seq failed: No such file or directory\n",
      "ALSA lib seq_hw.c:466:(snd_seq_hw_open) open /dev/snd/seq failed: No such file or directory\n",
      "ALSA lib seq_hw.c:466:(snd_seq_hw_open) open /dev/snd/seq failed: No such file or directory\n",
      "ALSA lib seq_hw.c:466:(snd_seq_hw_open) open /dev/snd/seq failed: No such file or directory\n",
      "ALSA lib seq_hw.c:466:(snd_seq_hw_open) open /dev/snd/seq failed: No such file or directory\n",
      "ALSA lib seq_hw.c:466:(snd_seq_hw_open) open /dev/snd/seq failed: No such file or directory\n",
      "ALSA lib seq_hw.c:466:(snd_seq_hw_open) open /dev/snd/seq failed: No such file or directory\n",
      "ALSA lib seq_hw.c:466:(snd_seq_hw_open) open /dev/snd/seq failed: No such file or directory\n",
      "ALSA lib seq_hw.c:466:(snd_seq_hw_open) open /dev/snd/seq failed: No such file or directory\n",
      "ALSA lib seq_hw.c:466:(snd_seq_hw_open) open /dev/snd/seq failed: No such file or directory\n",
      "ALSA lib seq_hw.c:466:(snd_seq_hw_open) open /dev/snd/seq failed: No such file or directory\n",
      "ALSA lib seq_hw.c:466:(snd_seq_hw_open) open /dev/snd/seq failed: No such file or directory\n",
      "ALSA lib seq_hw.c:466:(snd_seq_hw_open) open /dev/snd/seq failed: No such file or directory\n",
      "ALSA lib seq_hw.c:466:(snd_seq_hw_open) open /dev/snd/seq failed: No such file or directory\n",
      "ALSA lib seq_hw.c:466:(snd_seq_hw_open) open /dev/snd/seq failed: No such file or directory\n",
      "ALSA lib seq_hw.c:466:(snd_seq_hw_open) open /dev/snd/seq failed: No such file or directory\n",
      "ALSA lib seq_hw.c:466:(snd_seq_hw_open) open /dev/snd/seq failed: No such file or directory\n",
      "ALSA lib seq_hw.c:466:(snd_seq_hw_open) open /dev/snd/seq failed: No such file or directory\n",
      "ALSA lib seq_hw.c:466:(snd_seq_hw_open) open /dev/snd/seq failed: No such file or directory\n",
      "ALSA lib seq_hw.c:466:(snd_seq_hw_open) open /dev/snd/seq failed: No such file or directory\n",
      "ALSA lib seq_hw.c:466:(snd_seq_hw_open) open /dev/snd/seq failed: No such file or directory\n",
      "ALSA lib seq_hw.c:466:(snd_seq_hw_open) ALSA lib seq_hw.c:466:(snd_seq_hw_open) open /dev/snd/seq failedopen /dev/snd/seq failed: No such file or directory\n",
      ": No such file or directory\n",
      "ALSA lib seq_hw.c:466:(snd_seq_hw_open) open /dev/snd/seq failed: No such file or directory\n",
      "ALSA lib seq_hw.c:466:(snd_seq_hw_open) open /dev/snd/seq failed: No such file or directory\n",
      "ALSA lib seq_hw.c:466:(snd_seq_hw_open) open /dev/snd/seq failed: No such file or directory\n",
      "ALSA lib seq_hw.c:466:(snd_seq_hw_open) open /dev/snd/seq failed: No such file or directory\n",
      "ALSA lib seq_hw.c:466:(snd_seq_hw_open) open /dev/snd/seq failed: No such file or directory\n",
      "ALSA lib seq_hw.c:466:(snd_seq_hw_open) open /dev/snd/seq failed: No such file or directory\n",
      "ALSA lib seq_hw.c:466:(snd_seq_hw_open) open /dev/snd/seq failed: No such file or directory\n",
      "ALSA lib seq_hw.c:466:(snd_seq_hw_open) open /dev/snd/seq failed: No such file or directory\n",
      "ALSA lib seq_hw.c:466:(snd_seq_hw_open) open /dev/snd/seq failed: No such file or directory\n",
      "ALSA lib seq_hw.c:466:(snd_seq_hw_open) open /dev/snd/seq failed: No such file or directory\n",
      "ALSA lib seq_hw.c:466:(snd_seq_hw_open) open /dev/snd/seq failed: No such file or directory\n",
      "ALSA lib seq_hw.c:466:(snd_seq_hw_open) open /dev/snd/seq failed: No such file or directory\n",
      "ALSA lib seq_hw.c:466:(snd_seq_hw_open) open /dev/snd/seq failed: No such file or directory\n",
      "ALSA lib seq_hw.c:466:(snd_seq_hw_open) open /dev/snd/seq failed: No such file or directory\n",
      "ALSA lib seq_hw.c:466:(snd_seq_hw_open) open /dev/snd/seq failed: No such file or directory\n",
      "ALSA lib seq_hw.c:466:(snd_seq_hw_open) open /dev/snd/seq failed: No such file or directory\n",
      "ALSA lib seq_hw.c:466:(snd_seq_hw_open) open /dev/snd/seq failed: No such file or directory\n",
      "ALSA lib seq_hw.c:466:(snd_seq_hw_open) open /dev/snd/seq failed: No such file or directory\n",
      "ALSA lib seq_hw.c:466:(snd_seq_hw_open) open /dev/snd/seq failed: No such file or directory\n",
      "ALSA lib seq_hw.c:466:(snd_seq_hw_open) open /dev/snd/seq failed: No such file or directory\n",
      "ALSA lib seq_hw.c:466:(snd_seq_hw_open) open /dev/snd/seq failed: No such file or directory\n",
      "ALSA lib seq_hw.c:466:(snd_seq_hw_open) open /dev/snd/seq failed: No such file or directory\n",
      "ALSA lib seq_hw.c:466:(snd_seq_hw_open) open /dev/snd/seq failed: No such file or directory\n",
      "ALSA lib seq_hw.c:466:(snd_seq_hw_open) open /dev/snd/seq failed: No such file or directory\n",
      "ALSA lib seq_hw.c:466:(snd_seq_hw_open) open /dev/snd/seq failed: No such file or directory\n",
      "ALSA lib seq_hw.c:466:(snd_seq_hw_open) open /dev/snd/seq failed: No such file or directory\n",
      "ALSA lib seq_hw.c:466:(snd_seq_hw_open) open /dev/snd/seq failed: No such file or directory\n",
      "ALSA lib seq_hw.c:466:(snd_seq_hw_open) open /dev/snd/seq failed: No such file or directory\n",
      "ALSA lib seq_hw.c:466:(snd_seq_hw_open) open /dev/snd/seq failed: No such file or directory\n",
      "ALSA lib seq_hw.c:466:(snd_seq_hw_open) open /dev/snd/seq failed: No such file or directory\n",
      "ALSA lib seq_hw.c:466:(snd_seq_hw_open) open /dev/snd/seq failed: No such file or directory\n",
      "ALSA lib seq_hw.c:466:(snd_seq_hw_open) open /dev/snd/seq failed: No such file or directory\n",
      "ALSA lib seq_hw.c:466:(snd_seq_hw_open) open /dev/snd/seq failed: No such file or directory\n",
      "ALSA lib seq_hw.c:466:(snd_seq_hw_open) open /dev/snd/seq failed: No such file or directory\n",
      "ALSA lib seq_hw.c:466:(snd_seq_hw_open) open /dev/snd/seq failed: No such file or directory\n",
      "ALSA lib seq_hw.c:466:(snd_seq_hw_open) open /dev/snd/seq failed: No such file or directory\n",
      "ALSA lib seq_hw.c:466:(snd_seq_hw_open) open /dev/snd/seq failed: No such file or directory\n",
      "ALSA lib seq_hw.c:466:(snd_seq_hw_open) open /dev/snd/seq failed: No such file or directory\n",
      "ALSA lib seq_hw.c:466:(snd_seq_hw_open) open /dev/snd/seq failed: No such file or directory\n",
      "ALSA lib seq_hw.c:466:(snd_seq_hw_open) open /dev/snd/seq failed: No such file or directory\n",
      "ALSA lib seq_hw.c:466:(snd_seq_hw_open) open /dev/snd/seq failed: No such file or directory\n",
      "ALSA lib seq_hw.c:466:(snd_seq_hw_open) open /dev/snd/seq failed: No such file or directory\n",
      "ALSA lib seq_hw.c:466:(snd_seq_hw_open) open /dev/snd/seq failed: No such file or directory\n",
      "ALSA lib seq_hw.c:466:(snd_seq_hw_open) open /dev/snd/seq failed: No such file or directory\n",
      "ALSA lib seq_hw.c:466:(snd_seq_hw_open) open /dev/snd/seq failed: No such file or directory\n",
      "ALSA lib seq_hw.c:466:(snd_seq_hw_open) open /dev/snd/seq failed: No such file or directory\n",
      "ALSA lib seq_hw.c:466:(snd_seq_hw_open) open /dev/snd/seq failed: No such file or directory\n",
      "ALSA lib seq_hw.c:466:(snd_seq_hw_open) open /dev/snd/seq failed: No such file or directory\n",
      "ALSA lib seq_hw.c:466:(snd_seq_hw_open) open /dev/snd/seq failed: No such file or directory\n",
      "ALSA lib seq_hw.c:466:(snd_seq_hw_open) open /dev/snd/seq failed: No such file or directory\n",
      "ALSA lib seq_hw.c:466:(snd_seq_hw_open) open /dev/snd/seq failed: No such file or directory\n",
      "ALSA lib seq_hw.c:466:(snd_seq_hw_open) open /dev/snd/seq failed: No such file or directory\n",
      "ALSA lib seq_hw.c:466:(snd_seq_hw_open) open /dev/snd/seq failed: No such file or directory\n",
      "ALSA lib seq_hw.c:466:(snd_seq_hw_open) open /dev/snd/seq failed: No such file or directory\n",
      "ALSA lib seq_hw.c:466:(snd_seq_hw_open) open /dev/snd/seq failed: No such file or directory\n",
      "ALSA lib seq_hw.c:466:(snd_seq_hw_open) open /dev/snd/seq failed: No such file or directory\n",
      "ALSA lib seq_hw.c:466:(snd_seq_hw_open) open /dev/snd/seq failed: No such file or directory\n",
      "ALSA lib seq_hw.c:466:(snd_seq_hw_open) open /dev/snd/seq failed: No such file or directory\n",
      "ALSA lib seq_hw.c:466:(snd_seq_hw_open) open /dev/snd/seq failed: No such file or directory\n",
      "ALSA lib seq_hw.c:466:(snd_seq_hw_open) open /dev/snd/seq failed: No such file or directory\n",
      "ALSA lib seq_hw.c:466:(snd_seq_hw_open) open /dev/snd/seq failed: No such file or directory\n",
      "ALSA lib seq_hw.c:466:(snd_seq_hw_open) open /dev/snd/seq failed: No such file or directory\n",
      "ALSA lib seq_hw.c:466:(snd_seq_hw_open) open /dev/snd/seq failed: No such file or directory\n",
      "ALSA lib seq_hw.c:466:(snd_seq_hw_open) open /dev/snd/seq failed: No such file or directory\n",
      "ALSA lib seq_hw.c:466:(snd_seq_hw_open) open /dev/snd/seq failed: No such file or directory\n",
      "ALSA lib seq_hw.c:466:(snd_seq_hw_open) open /dev/snd/seq failed: No such file or directory\n",
      "ALSA lib seq_hw.c:466:(snd_seq_hw_open) open /dev/snd/seq failed: No such file or directory\n",
      "ALSA lib seq_hw.c:466:(snd_seq_hw_open) open /dev/snd/seq failed: No such file or directory\n",
      "ALSA lib seq_hw.c:466:(snd_seq_hw_open) open /dev/snd/seq failed: No such file or directory\n",
      "ALSA lib seq_hw.c:466:(snd_seq_hw_open) open /dev/snd/seq failed: No such file or directory\n",
      "ALSA lib seq_hw.c:466:(snd_seq_hw_open) open /dev/snd/seq failed: No such file or directory\n",
      "ALSA lib seq_hw.c:466:(snd_seq_hw_open) open /dev/snd/seq failed: No such file or directory\n",
      "ALSA lib seq_hw.c:466:(snd_seq_hw_open) open /dev/snd/seq failed: No such file or directory\n",
      "ALSA lib seq_hw.c:466:(snd_seq_hw_open) open /dev/snd/seq failed: No such file or directory\n",
      "ALSA lib seq_hw.c:466:(snd_seq_hw_open) open /dev/snd/seq failed: No such file or directory\n",
      "ALSA lib seq_hw.c:466:(snd_seq_hw_open) open /dev/snd/seq failed: No such file or directory\n",
      "ALSA lib seq_hw.c:466:(snd_seq_hw_open) open /dev/snd/seq failed: No such file or directoryALSA lib seq_hw.c:466:(snd_seq_hw_open) open /dev/snd/seq failed\n",
      ": No such file or directory\n",
      "ALSA lib seq_hw.c:466:(snd_seq_hw_open) open /dev/snd/seq failed: No such file or directory\n",
      "ALSA lib seq_hw.c:466:(snd_seq_hw_open) open /dev/snd/seq failed: No such file or directory\n",
      "ALSA lib seq_hw.c:466:(snd_seq_hw_open) open /dev/snd/seq failed: No such file or directory\n",
      "ALSA lib seq_hw.c:466:(snd_seq_hw_open) open /dev/snd/seq failed: No such file or directory\n",
      "ALSA lib seq_hw.c:466:(snd_seq_hw_open) open /dev/snd/seq failed: No such file or directory\n",
      "ALSA lib seq_hw.c:466:(snd_seq_hw_open) open /dev/snd/seq failed: No such file or directory\n",
      "ALSA lib seq_hw.c:466:(snd_seq_hw_open) open /dev/snd/seq failed: No such file or directory\n",
      "ALSA lib seq_hw.c:466:(snd_seq_hw_open) open /dev/snd/seq failed: No such file or directory\n",
      "ALSA lib seq_hw.c:466:(snd_seq_hw_open) open /dev/snd/seq failed: No such file or directory\n",
      "ALSA lib seq_hw.c:466:(snd_seq_hw_open) open /dev/snd/seq failed: No such file or directory\n",
      "ALSA lib seq_hw.c:466:(snd_seq_hw_open) open /dev/snd/seq failed: No such file or directory\n",
      "ALSA lib seq_hw.c:466:(snd_seq_hw_open) open /dev/snd/seq failed: No such file or directory\n",
      "ALSA lib seq_hw.c:466:(snd_seq_hw_open) open /dev/snd/seq failed: No such file or directory\n",
      "ALSA lib seq_hw.c:466:(snd_seq_hw_open) open /dev/snd/seq failed: No such file or directory\n",
      "ALSA lib seq_hw.c:466:(snd_seq_hw_open) open /dev/snd/seq failed: No such file or directory\n",
      "ALSA lib seq_hw.c:466:(snd_seq_hw_open) open /dev/snd/seq failed: No such file or directory\n"
     ]
    },
    {
     "name": "stdout",
     "output_type": "stream",
     "text": [
      "\u001b[1;32m14:01:53.517 | INFO  | main_thread | ActionsDispatcher | dispatch: try call action: play\u001b[0m\n"
     ]
    },
    {
     "name": "stderr",
     "output_type": "stream",
     "text": [
      "ALSA lib seq_hw.c:466:(snd_seq_hw_open) open /dev/snd/seq failed: No such file or directory\n",
      "ALSA lib seq_hw.c:466:(snd_seq_hw_open) open /dev/snd/seq failed: No such file or directory\n",
      "ALSA lib seq_hw.c:466:(snd_seq_hw_open) open /dev/snd/seq failed: No such file or directory\n",
      "ALSA lib seq_hw.c:466:(snd_seq_hw_open) open /dev/snd/seq failed: No such file or directory\n",
      "ALSA lib seq_hw.c:466:(snd_seq_hw_open) open /dev/snd/seq failed: No such file or directory\n",
      "ALSA lib seq_hw.c:466:(snd_seq_hw_open) open /dev/snd/seq failed: No such file or directory\n",
      "ALSA lib seq_hw.c:466:(snd_seq_hw_open) open /dev/snd/seq failedALSA lib seq_hw.c:466:(snd_seq_hw_open) open /dev/snd/seq failed: No such file or directory\n",
      ": No such file or directory\n",
      "ALSA lib seq_hw.c:466:(snd_seq_hw_open) open /dev/snd/seq failed: No such file or directory\n",
      "ALSA lib seq_hw.c:466:(snd_seq_hw_open) open /dev/snd/seq failed: No such file or directory\n",
      "ALSA lib seq_hw.c:466:(snd_seq_hw_open) open /dev/snd/seq failed: No such file or directory\n",
      "ALSA lib seq_hw.c:466:(snd_seq_hw_open) open /dev/snd/seq failed: No such file or directory\n",
      "ALSA lib seq_hw.c:466:(snd_seq_hw_open) open /dev/snd/seq failed: No such file or directory\n",
      "ALSA lib seq_hw.c:466:(snd_seq_hw_open) open /dev/snd/seq failed: No such file or directory\n",
      "ALSA lib seq_hw.c:466:(snd_seq_hw_open) open /dev/snd/seq failed: No such file or directory\n",
      "ALSA lib seq_hw.c:466:(snd_seq_hw_open) open /dev/snd/seq failed: No such file or directory\n",
      "ALSA lib seq_hw.c:466:(snd_seq_hw_open) open /dev/snd/seq failed: No such file or directory\n",
      "ALSA lib seq_hw.c:466:(snd_seq_hw_open) open /dev/snd/seq failed: No such file or directory\n",
      "ALSA lib seq_hw.c:466:(snd_seq_hw_open) open /dev/snd/seq failed: No such file or directory\n",
      "ALSA lib seq_hw.c:466:(snd_seq_hw_open) open /dev/snd/seq failed: No such file or directory\n",
      "ALSA lib seq_hw.c:466:(snd_seq_hw_open) open /dev/snd/seq failed: No such file or directory\n",
      "ALSA lib seq_hw.c:466:(snd_seq_hw_open) open /dev/snd/seq failed: No such file or directory\n",
      "ALSA lib seq_hw.c:466:(snd_seq_hw_open) open /dev/snd/seq failed: No such file or directory\n",
      "ALSA lib seq_hw.c:466:(snd_seq_hw_open) open /dev/snd/seq failed: No such file or directory\n",
      "ALSA lib seq_hw.c:466:(snd_seq_hw_open) open /dev/snd/seq failed: No such file or directory\n",
      "ALSA lib seq_hw.c:466:(snd_seq_hw_open) open /dev/snd/seq failed: No such file or directory\n",
      "ALSA lib seq_hw.c:466:(snd_seq_hw_open) open /dev/snd/seq failed: No such file or directory\n",
      "ALSA lib seq_hw.c:466:(snd_seq_hw_open) open /dev/snd/seq failed: No such file or directory\n",
      "ALSA lib seq_hw.c:466:(snd_seq_hw_open) open /dev/snd/seq failed: No such file or directory\n",
      "ALSA lib seq_hw.c:466:(snd_seq_hw_open) open /dev/snd/seq failed: No such file or directory\n",
      "ALSA lib seq_hw.c:466:(snd_seq_hw_open) open /dev/snd/seq failed: No such file or directory\n",
      "ALSA lib seq_hw.c:466:(snd_seq_hw_open) open /dev/snd/seq failed: No such file or directory\n",
      "ALSA lib seq_hw.c:466:(snd_seq_hw_open) open /dev/snd/seq failed: No such file or directory\n",
      "ALSA lib seq_hw.c:466:(snd_seq_hw_open) open /dev/snd/seq failed: No such file or directory\n",
      "ALSA lib seq_hw.c:466:(snd_seq_hw_open) open /dev/snd/seq failed: No such file or directory\n",
      "ALSA lib seq_hw.c:466:(snd_seq_hw_open) open /dev/snd/seq failed: No such file or directory\n",
      "ALSA lib seq_hw.c:466:(snd_seq_hw_open) open /dev/snd/seq failed: No such file or directory\n",
      "ALSA lib seq_hw.c:466:(snd_seq_hw_open) open /dev/snd/seq failed: No such file or directory\n",
      "ALSA lib seq_hw.c:466:(snd_seq_hw_open) open /dev/snd/seq failed: No such file or directory\n",
      "ALSA lib seq_hw.c:466:(snd_seq_hw_open) open /dev/snd/seq failed: No such file or directory\n"
     ]
    }
   ],
   "source": [
    "chorale.show(\"musicxml\")"
   ]
  },
  {
   "cell_type": "code",
   "execution_count": null,
   "id": "33cb27b3-6139-46d1-9e62-875fcdfb4106",
   "metadata": {},
   "outputs": [],
   "source": []
  }
 ],
 "metadata": {
  "kernelspec": {
   "display_name": "Python 3 (ipykernel)",
   "language": "python",
   "name": "python3"
  },
  "language_info": {
   "codemirror_mode": {
    "name": "ipython",
    "version": 3
   },
   "file_extension": ".py",
   "mimetype": "text/x-python",
   "name": "python",
   "nbconvert_exporter": "python",
   "pygments_lexer": "ipython3",
   "version": "3.8.10"
  }
 },
 "nbformat": 4,
 "nbformat_minor": 5
}
