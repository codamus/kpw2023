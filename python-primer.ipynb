{
 "cells": [
  {
   "cell_type": "markdown",
   "id": "04867799",
   "metadata": {},
   "source": [
    "# A Python primer {#sec-python_primer}\n",
    "\n",
    ":::{.callout-note}\n",
    "From now on, we will assume that you have a working Python installation running on your computer. You can check this by typing the following into a terminal/console/command line:\n",
    "\n",
    "\n",
    "\n",
    "```{terminal}\n",
    "python --version\n",
    "```\n",
    "\n",
    "\n",
    "\n",
    "If the version number starts with a 3, you're all set. If not, please consider one of the many tutorials online on how to install Python.\n",
    ":::\n",
    "\n",
    "## Variables and types\n",
    "\n",
    "Variable assignment in Python is straight-forward. You choose a name for the variable, and assign a value to it using the `=` operator, for example:\n"
   ]
  },
  {
   "cell_type": "code",
   "execution_count": null,
   "id": "25b7a197",
   "metadata": {},
   "outputs": [],
   "source": [
    "x = 100"
   ]
  },
  {
   "cell_type": "markdown",
   "id": "92b3fcde",
   "metadata": {},
   "source": [
    "assigns the value `100` to the variable `x`. If we call the variable now, \n",
    "we can see that it has the value we assigned to it:\n"
   ]
  },
  {
   "cell_type": "code",
   "execution_count": null,
   "id": "7cee29d1",
   "metadata": {},
   "outputs": [],
   "source": [
    "x"
   ]
  },
  {
   "cell_type": "markdown",
   "id": "5690d247",
   "metadata": {},
   "source": [
    "Of course, we can also assign things other than numbers, for example:\n"
   ]
  },
  {
   "cell_type": "code",
   "execution_count": null,
   "id": "8e75b306",
   "metadata": {},
   "outputs": [],
   "source": [
    "name = \"Fabian\""
   ]
  },
  {
   "cell_type": "markdown",
   "id": "f5c8626f",
   "metadata": {},
   "source": [
    "What we assigned to the variable `name` is called a _string_,\n",
    "it has the value `\"Fabian\"`. Strings are sequences of characters.\n",
    "\n",
    "::: {.callout-tip}\n",
    "Note that `\"Fabian\"` is enclosed by double-quotes.\n",
    "Why is this the case? Why could we not just type `name = Fabian`?\n",
    ":::\n",
    "\n",
    "We can also assign a list of things to a variable:\n"
   ]
  },
  {
   "cell_type": "code",
   "execution_count": null,
   "id": "75df7e0c",
   "metadata": {},
   "outputs": [],
   "source": [
    "mylist = [1, 2, 3, \"A\", \"B\", \"C\"]"
   ]
  },
  {
   "cell_type": "markdown",
   "id": "0aae40ae",
   "metadata": {},
   "source": [
    "Lists are enclosed by square brackets. As you can see, Python allows you \n",
    "to store any kind of data in lists (here: integer numbers and character strings). However, it is good practice to include only---you'll understand later why.\n",
    "\n",
    "Another structured data type in python are dictionaries. Dictionaries are\n",
    "collections of key-value pairs. For example, a dictionary `addresses` could store the email addresses of certain people:\n"
   ]
  },
  {
   "cell_type": "code",
   "execution_count": null,
   "id": "f1c6d47d",
   "metadata": {},
   "outputs": [],
   "source": [
    "addresses = {\n",
    "    \"Andrew\" : \"andrew@example.com\",\n",
    "    \"Zoe\" : \"zoe@example.com\"\n",
    "}"
   ]
  },
  {
   "cell_type": "markdown",
   "id": "9b2ecd06",
   "metadata": {},
   "source": [
    "Now, if we wanted to look up Zoe's email address, we could to so with:\n"
   ]
  },
  {
   "cell_type": "code",
   "execution_count": null,
   "id": "e3bf14fb",
   "metadata": {},
   "outputs": [],
   "source": [
    "addresses[\"Zoe\"]"
   ]
  },
  {
   "cell_type": "markdown",
   "id": "92a3e664",
   "metadata": {},
   "source": [
    "## On repeat\n",
    "\n",
    "Coding something is only useful if you can't do the job as fast or as efficient by yourself. Especially when it comes to repeating the same little thing many, many times, knowing how to code comes in handy.\n",
    "\n",
    "As a simple example, imagine you want to write down all numbers from 1 to 10, or from 1 to 100, or... you get the idea.\n",
    "In Python, you would do it as follows:\n"
   ]
  },
  {
   "cell_type": "code",
   "execution_count": null,
   "id": "875bd6ab",
   "metadata": {},
   "outputs": [],
   "source": [
    "for i in range(10):\n",
    "    print(i, end=\" \")"
   ]
  },
  {
   "cell_type": "markdown",
   "id": "e78377e9",
   "metadata": {},
   "source": [
    "You see that this is not exactly what we wanted. We're seeing numbers from 0 to 9, but we wanted everything from 1 to 10. Before we fix the code to produce the desired result, let's explain the bits and pieces of the code above. What we just did was to use a so-called _for-loop_, probably the most common way to repeat things in Python. \n",
    "First we create an _iterator variable_ `i` (we could have named any other variable name as well), which takes its value from the list of numbers specified by `range(10)`. If only one number `n` is provided to `range(n)`, it will enumerate all numbers from 0 to `n-1`. If two arguments are provided, the first one determines the starting number, and the second one stands for the terminating number minus one---confusing, right? So, in order to enumerate all numbers from 1 to 10, we have to write `range(1,11)`. Finally, the `print` function outputs the value of `i` for each iteration. The `end` keyword in the `print` function makes the numbers being printed in one single line, separated by a single white space.^[The default value is `end=\"\\n\"`, so that each iteration gets printed onto a new line.]\n"
   ]
  },
  {
   "cell_type": "code",
   "execution_count": null,
   "id": "769290d4",
   "metadata": {},
   "outputs": [],
   "source": [
    "for i in range(1,11):\n",
    "    print(i, end=\" \")"
   ]
  },
  {
   "cell_type": "markdown",
   "id": "16ce8755",
   "metadata": {},
   "source": [
    "Voilà!\n",
    "\n",
    "## Just in case\n",
    "\n",
    "Often we encounter a situation where we would execute some code **only if** certain \n",
    "conditions are met. In python, this is done with the `if` statement. For example, \n",
    "if we want to only print the even numbers in the range from 1 to 10, we \n",
    "could adapt the code from above as follows:\n"
   ]
  },
  {
   "cell_type": "code",
   "execution_count": null,
   "id": "713eaf1f",
   "metadata": {},
   "outputs": [],
   "source": [
    "for i in range(1,11):\n",
    "    if i % 2 == 0:\n",
    "        print(i, \"is even\")"
   ]
  },
  {
   "cell_type": "markdown",
   "id": "4d52ffd0",
   "metadata": {},
   "source": [
    "You can read this as \"if the remainder of dividing i by 2 is zero, then print 'i is even'\".\n",
    "\n",
    "Now, we could also want to print a similar statement in the case that `i` is odd:\n"
   ]
  },
  {
   "cell_type": "code",
   "execution_count": null,
   "id": "55311898",
   "metadata": {},
   "outputs": [],
   "source": [
    "for i in range(1,11):\n",
    "    if i % 2 == 0:\n",
    "        print(i, \"is even\")\n",
    "    else:\n",
    "        print(i, \"is odd\")"
   ]
  },
  {
   "cell_type": "markdown",
   "id": "326ab937",
   "metadata": {},
   "source": [
    "And, finally, we could also have more than just one condition. An if-statement\n",
    "allows for arbitrary many if-else clauses, with which we can formulate several different \n",
    "conditions by writing `elif` (shorthand for 'or else if'):\n"
   ]
  },
  {
   "cell_type": "code",
   "execution_count": null,
   "id": "bf85db67",
   "metadata": {},
   "outputs": [],
   "source": [
    "for i in range(1,11):\n",
    "    if i % 2 == 0:\n",
    "        print(i, \"is even\")\n",
    "    elif i % 3 == 0:\n",
    "        print(i, \"is divisible by 3\")\n",
    "    else:\n",
    "        print(i, \"is odd\")"
   ]
  },
  {
   "cell_type": "markdown",
   "id": "553a8323",
   "metadata": {},
   "source": [
    "We now know when a number is even and when it is divisible by 3.\n",
    "But what about numbers that are _both_ even _and_ divisible by 3? \n",
    "We just add another condition to the `elif` statement and enclose each condition in parentheses, so that Python knows how things group together:\n"
   ]
  },
  {
   "cell_type": "code",
   "execution_count": null,
   "id": "37ab17fb",
   "metadata": {},
   "outputs": [],
   "source": [
    "for i in range(1,11):\n",
    "    if i % 2 == 0:\n",
    "        print(i, \"is even\")\n",
    "    elif (i % 2 == 0) and (i % 3 == 0):\n",
    "        print(i, \"is even and divisible by 3\")\n",
    "    else:\n",
    "        print(i, \"is odd\")"
   ]
  },
  {
   "cell_type": "markdown",
   "id": "72d41bba",
   "metadata": {},
   "source": [
    "Why did this not work? The number 6 is even _and_ divisible by 3!\n",
    "The reason is that the three statements (`if`, `elif`, and `else`)\n",
    "are being executed in the order that we wrote them down. \n",
    "That means, that Python will first check for each number whether \n",
    "it is even (and nothing more), and if it is, it will follow the instruction to print \n",
    "it and go on to the next number. So, once we arrived at 6, the programm \n",
    "will only check if the number is even. That is not the desired result and we have to \n",
    "make a little change to it. We will switch the conditions in the `if` and `elif` \n",
    "statements:\n"
   ]
  },
  {
   "cell_type": "code",
   "execution_count": null,
   "id": "495b8437",
   "metadata": {},
   "outputs": [],
   "source": [
    "for i in range(1,11):\n",
    "    if (i % 2 == 0) and (i % 3 == 0):\n",
    "        print(i, \"is even and divisible by 3\")\n",
    "    elif i % 2 == 0:\n",
    "        print(i, \"is even\")\n",
    "    else:\n",
    "        print(i, \"is odd\")"
   ]
  },
  {
   "cell_type": "markdown",
   "id": "a3faf3ea",
   "metadata": {},
   "source": [
    "Now it works! Note that new never specified any conditions for the `else`\n",
    "statement. This is because whatever follows it will be executed in case \n",
    "none of the conditions in `if` or `elif` are met.\n",
    "\n",
    "## Functions\n",
    "\n",
    "With more and more experience in programming, \n",
    "it is likely that your code will become more and more complex.\n",
    "That means that it will become harder to keep track of what every piece \n",
    "of it is supposed to do. A good strategy to deal with this is to aim for writing code that is _modular_: it can be broken down into smaller units (modules) that are easier to understand. Moreover, it is sometimes necessary to reuse the same code several times. It would, however, be inefficient to write the same lines over and over again. With your code being modular you can wrap the pieces that you need in several places into a _function_. \n",
    "\n",
    "Let's look at an example! Assume, your (fairly) complex code involves calculating the sum of the products of two numbers. In Python, we use the `+` operator to calculate sums and the `**` operator to raise a number to a certain power (**2 for the square of a number). \n"
   ]
  },
  {
   "cell_type": "code",
   "execution_count": null,
   "id": "c5c951cf",
   "metadata": {},
   "outputs": [],
   "source": [
    "x = 3\n",
    "y = 5\n",
    "\n",
    "sum_of_squares = x**2 + y**2"
   ]
  },
  {
   "cell_type": "markdown",
   "id": "1546f797",
   "metadata": {},
   "source": [
    "The variable `sum_of_squares` now contains the sum of squares of `x=3` and `y=5`. We can inspect the result by calling the variable:\n"
   ]
  },
  {
   "cell_type": "code",
   "execution_count": null,
   "id": "d9e26b30",
   "metadata": {},
   "outputs": [],
   "source": [
    "sum_of_squares "
   ]
  },
  {
   "cell_type": "markdown",
   "id": "424135cb",
   "metadata": {},
   "source": [
    "Now, imagine that you would have to do the same calculation several times for different combinations of values for `x` and `y` (and always keeping in mind that this stands in for much more complex examples with several lines of code). We can this code in a function:\n"
   ]
  },
  {
   "cell_type": "code",
   "execution_count": null,
   "id": "b67ec6f1",
   "metadata": {},
   "outputs": [],
   "source": [
    "def func_sum_of_squares(x, y):\n",
    "    return x**2 + y**2"
   ]
  },
  {
   "cell_type": "markdown",
   "id": "89d5fe3d",
   "metadata": {},
   "source": [
    "Now, each time we want to calculate a sum of squares, we can do so by simply invoking \n"
   ]
  },
  {
   "cell_type": "code",
   "execution_count": null,
   "id": "f32441cc",
   "metadata": {},
   "outputs": [],
   "source": [
    "func_sum_of_squares(5,4)"
   ]
  },
  {
   "cell_type": "markdown",
   "id": "44371bf9",
   "metadata": {},
   "source": [
    "And, of course, we could chose a shorter name for the function as well:\n"
   ]
  },
  {
   "cell_type": "code",
   "execution_count": null,
   "id": "7d4b486f",
   "metadata": {},
   "outputs": [],
   "source": [
    "f = func_sum_of_squares\n",
    "\n",
    "f(5,4)"
   ]
  },
  {
   "cell_type": "markdown",
   "id": "04528d81",
   "metadata": {},
   "source": [
    "## Libraries you'll love\n",
    "\n",
    "Luckily, you don't have to programm all functions by yourself.\n",
    "There is a huge community of Python programmers out there that \n",
    "works and collaborates on several _libraries_. A library is (more or less)\n",
    "simply a collection of certain functions (and some more, but we don't get into this here). This means, instead of writing a function yourself, you can rely on functions that someone else has programmed.\n",
    "\n",
    "::: {.callout-caution}\n",
    "Whether a Python library or function does actually do what it promises is\n",
    "another story. Popular libraries with tens of thousands of users are very trust-worthy because you can be almost sure that someone would have noticed erroneous behavior. But it is certainly possible that badly-maintained libraries contain errors. So be prudent when using the code of others.\n",
    ":::\n",
    "\n",
    "One of the most popular Python libaries is [NumPy](https://numpy.org/) for numerical computations. We will rely a lot on the functions in this library, especially in order to draw random samples---more on this later!\n",
    "To use the functions or variables from this library, they have to be _imported_ so that you can use them. There are several ways to do this.\n",
    "For example, you can import the libary entirely:\n"
   ]
  },
  {
   "cell_type": "code",
   "execution_count": null,
   "id": "ef63f68a",
   "metadata": {},
   "outputs": [],
   "source": [
    "import numpy"
   ]
  },
  {
   "cell_type": "markdown",
   "id": "6a4ac6ee",
   "metadata": {},
   "source": [
    "Now, you can use the (approximated) value of $\\pi$ stored in this library by typing \n"
   ]
  },
  {
   "cell_type": "code",
   "execution_count": null,
   "id": "633b549d",
   "metadata": {},
   "outputs": [],
   "source": [
    "numpy.pi"
   ]
  },
  {
   "cell_type": "markdown",
   "id": "c997d2aa",
   "metadata": {},
   "source": [
    "A different way is to just import everything from the library by writing \n"
   ]
  },
  {
   "cell_type": "code",
   "execution_count": null,
   "id": "0a385e1a",
   "metadata": {},
   "outputs": [],
   "source": [
    "from numpy import * "
   ]
  },
  {
   "cell_type": "markdown",
   "id": "dc866432",
   "metadata": {},
   "source": [
    "Here, the `*` stands for 'everything'. Now, to use the value of $\\pi$ we could simply type\n"
   ]
  },
  {
   "cell_type": "code",
   "execution_count": null,
   "id": "2e93ec38",
   "metadata": {},
   "outputs": [],
   "source": [
    "pi"
   ]
  },
  {
   "cell_type": "markdown",
   "id": "99035d59",
   "metadata": {},
   "source": [
    "This is, however discouraged for the following reason: imagine we had another library, `numpy2` that also stores the value of $\\pi$, but less precisely (e.g. only as `3.14`). If we write \n"
   ]
  },
  {
   "cell_type": "code",
   "execution_count": null,
   "id": "5588e586",
   "metadata": {},
   "outputs": [],
   "source": [
    "#| eval: false\n",
    "from numpy import * \n",
    "from numpy2 import * "
   ]
  },
  {
   "cell_type": "markdown",
   "id": "a194a98a",
   "metadata": {},
   "source": [
    "We would have imported the variables holding the value of $\\pi$ from both libraries. But, because they have the same name `pi`. In this case, `pi` would equal `3.14` because we imported `numpy2` last. This is confusing and shouldn't be so! To avoid this, it is better to keep references to imported libraries explicit. In order not to have to type too much (we're all lazy, after all), we can define an alias for the library.\n"
   ]
  },
  {
   "cell_type": "code",
   "execution_count": null,
   "id": "ae6c86d4",
   "metadata": {},
   "outputs": [],
   "source": [
    "import numpy as np\n",
    "np.pi"
   ]
  },
  {
   "cell_type": "markdown",
   "id": "8d8d12b6",
   "metadata": {},
   "source": [
    "All functions of NumPy are now accessible with the prefix `np.`. You can choose any alias when importing a library (it can even by longer than the library name) but certain conventions have emerged that you're encouraged to follow. Importing the most commonly used Python libraries for data-science tasks (\"The data science triad\"), use the following:\n"
   ]
  },
  {
   "cell_type": "code",
   "execution_count": null,
   "id": "7af9d0e8",
   "metadata": {},
   "outputs": [],
   "source": [
    "import numpy as np # for numerical computations\n",
    "import pandas as pd # for tabular data \n",
    "import matplotlib.pyplot as plt # for data visualization"
   ]
  },
  {
   "cell_type": "markdown",
   "id": "c905cd25",
   "metadata": {},
   "source": [
    "We will use all three of them in the following chapters and you'll learn to love them."
   ]
  }
 ],
 "metadata": {
  "kernelspec": {
   "display_name": "Python 3 (ipykernel)",
   "language": "python",
   "name": "python3"
  },
  "language_info": {
   "codemirror_mode": {
    "name": "ipython",
    "version": 3
   },
   "file_extension": ".py",
   "mimetype": "text/x-python",
   "name": "python",
   "nbconvert_exporter": "python",
   "pygments_lexer": "ipython3",
   "version": "3.8.10"
  }
 },
 "nbformat": 4,
 "nbformat_minor": 5
}
